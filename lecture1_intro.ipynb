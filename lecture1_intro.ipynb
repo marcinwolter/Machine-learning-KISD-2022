{
  "cells": [
    {
      "cell_type": "markdown",
      "metadata": {
        "id": "view-in-github",
        "colab_type": "text"
      },
      "source": [
        "<a href=\"https://colab.research.google.com/github/marcinwolter/Machine-learning-KISD-2022/blob/main/lecture1_intro.ipynb\" target=\"_parent\"><img src=\"https://colab.research.google.com/assets/colab-badge.svg\" alt=\"Open In Colab\"/></a>"
      ]
    },
    {
      "cell_type": "markdown",
      "metadata": {
        "id": "u-tIGuNw0nQ5"
      },
      "source": [
        "<center>\n",
        "\n",
        "# **<font color = \"red\">Introduction to machine learning</font>**\n",
        "\n",
        "Lecture 1 \n",
        "\n",
        "\n",
        "##**<font color = \"green\">Introduction</font>**\n",
        "\n",
        "*23 February 2022*\n",
        "\n",
        "\n",
        "---\n",
        "\n",
        "*Marcin Wolter, IFJ PAN*\n",
        "\n",
        "*e-mail: marcin.wolter@ifj.edu.pl*\n",
        "\n",
        "\n",
        "---\n",
        "</center>\n",
        "\n",
        "**<font color = \"red\">All lecture slides are here:</font>**\n",
        "\n",
        "**https://github.com/marcinwolter/Machine-learning-KISD-2022**\n",
        "\n",
        "available as iPython notebooks.\n",
        "\n"
      ]
    },
    {
      "cell_type": "markdown",
      "metadata": {
        "id": "L-ii7bUW0nQ9"
      },
      "source": [
        "## **<font color=\"green\">Today lecture:**\n",
        "\n",
        "\n",
        "\n",
        "*   Machine learning: what does it mean?\n",
        "*   Software and literature.\n",
        "*   Software and literature.\n",
        "*   A little bit of mathematics and examples of simple linear classifiers.\n",
        "*   Some examples"
      ]
    },
    {
      "cell_type": "markdown",
      "source": [
        "<center>\n",
        "\n",
        "<img src='https://raw.githubusercontent.com/marcinwolter/Machine-learning-KISD-2022/main/images/lecture1/10000201000001F40000011B795794662ED1AA82.png' width=\"450px\">"
      ],
      "metadata": {
        "id": "nHd18CZMGa9Z"
      }
    },
    {
      "cell_type": "markdown",
      "source": [
        "## **<font color=\"green\">Course outline:**\n",
        "(we will see how many topics we can cover)\n",
        "\n",
        "* Probability – an introduction\n",
        "* Machine learning: what does it mean? \n",
        "* Software to work with and literature. \n",
        "* A little bit of mathematics and examples of simple linear classifiers.\n",
        "* Simple non-linear methods like k-nearest neighbors, Parzen kernel methods, Independent Component Analysis ICA\n",
        "* Ensemble learning – Boosted Decision Trees BDT\n",
        "* Cluster analysis\n",
        "* Shallow neural networks (did you attend the course of prof. Broniowski?)\n",
        "* Bayesian Neural Networks,\n",
        "* Deep Neural Networks\n",
        "* How to build a Deep Neural Network – Keras tutorial \n",
        "* Convolutional Deep Neural Network\n",
        "* Network Training - cross-validation. \n",
        "* Optimization of hyperparameters. \n",
        "* Mixed Density Network\n",
        "* Generative Adversarial Networks (GANs)"
      ],
      "metadata": {
        "id": "jVC4AHy3PdXU"
      }
    },
    {
      "cell_type": "markdown",
      "source": [
        "## **<font color=\"green\">Literature:**\n",
        "\n",
        "* In Polish: M. Krzyśko, Systemy uczące się: rozpoznawanie wzorców, analiza skupień i redukcja wymiarowości. WNT, 2008. \n",
        "* C. Bishop, Pattern recognition and machine learning. Springer, 2009.\n",
        "* Internet information about Deep Neural Networks – many things have changed in the recent years. I will point to some manuals during the lecture."
      ],
      "metadata": {
        "id": "R92ox1EjRJVK"
      }
    },
    {
      "cell_type": "markdown",
      "source": [
        "## **<font color=\"green\">Software:**\n",
        "\n",
        "* Python programming language (did you attend the python course?)\n",
        "\n",
        "* http://scikit-learn.org  <br>\n",
        "scikit-learn - Machine Learning in Python <br>\n",
        "Simple and efficient tools for data mining and data analysis\n",
        "Built on NumPy, SciPy, and matplotlib\n",
        "\n",
        "* https://keras.io/ <br>\n",
        "Keras: The Python Deep Learning library <br>\n",
        "Emulates Deep Neural Network, uses google TensorFlow software\n",
        "\n",
        "* Google Colaboratory as a working platform – **you need a google ID** <br>\n",
        "https://colab.research.google.com/ <br>\n",
        "Platform to run python notebooks, supplies **free GPU**\n",
        "\n",
        "* Github to store the code <br>\n",
        "https://github.com"
      ],
      "metadata": {
        "id": "KBFj6J0_RYW5"
      }
    },
    {
      "cell_type": "markdown",
      "source": [
        "## **<font color=\"green\">Google Colab & Github:**\n",
        "### <font color=\"green\">*short tutorial*</font>\n",
        "\n",
        "**How to run python (or better iPython notebook)?** <br>\n",
        "You can install python and on your laptop… <br>\n",
        "https://jupyter.org/ <br>\n",
        "… but you can also use a FREE framework over internet to run your notebooks:<br>\n",
        "* You do not need to install anything\n",
        "* You can share your code\n",
        "*You get free CPU or even GPU (Graphic Processor Units), which make the code running much faster.\n",
        "\n",
        "**Notebooks available on WEB:**\n",
        "* Google Colab (we will use it) https://colab.research.google.com\n",
        "* Kaggle server https://www.kaggle.com/\n",
        "* And some others, see: https://analyticsindiamag.com/5-alternatives-to-google-colab-for-data-scientists/\n",
        "\n",
        "<br>\n",
        "\n",
        "---\n",
        "\n",
        "<br>\n",
        "\n",
        "### **<font color=\"green\">Let’s play with Google Colaboratory**\n",
        "* Open: https://colab.research.google.com \n",
        "* Sign in with your google account\n",
        "* Click: File→New Notebook\n",
        "\n",
        "\n",
        "Paste the simplest program:<br>\n",
        "*print(\"Hello World! I am an iPython programmer!\")* <br>\n",
        "Run the code:\n",
        "<br>\n",
        "<center>\n",
        "\n",
        "<img src='https://raw.githubusercontent.com/marcinwolter/Machine-learning-KISD-2022/main/images/lecture1/1000020100000A04000005C0E1C44F7B8AC49A67.png' width=\"450px\">\n",
        "</center>\n",
        "\n"
      ],
      "metadata": {
        "id": "RzZpjEcocVHf"
      }
    },
    {
      "cell_type": "markdown",
      "source": [
        "**How to use Google Colab & Github?** <br>\n",
        "Very nice tutorial is here: <br>\n",
        "https://towardsdatascience.com/google-drive-google-colab-github-dont-just-read-do-it-5554d5824228 \n",
        "<br> <br>\n",
        "**How to save a copy of your iPython notebook**\n",
        " to Github? <br>\n",
        "* Go to https://github.com/ and sign up <br>\n",
        "* Create new repository by clicking “Repositories” and then “New”:<br>\n",
        "<img src='https://raw.githubusercontent.com/marcinwolter/Machine-learning-KISD-2022/main/images/lecture1/10000201000009DE000002BEC873C2CCFF32F83F.png' img_width=450px>\n",
        "<br>\n",
        "\n",
        "* Type the repository name and click “Create repository”:<br>\n",
        "\n",
        "\n",
        "**Saving the notebook to the Github repository:** <br>\n",
        "<img src='https://raw.githubusercontent.com/marcinwolter/Machine-learning-KISD-2022/main/images/lecture1/1000020100000A04000005C0D12108EDDC331620.png' img_width=450px>\n",
        "<br>\n",
        "<img src='https://raw.githubusercontent.com/marcinwolter/Machine-learning-KISD-2022/main/images/lecture1/10000201000009EA000006306582693D7EB23AFC.png' img_width=450px>\n",
        "\n",
        "**Running example from Github** <br>\n",
        "Open a github repository: <br> \n",
        "https://github.com/marcinwolter/Machine-learning-KISD-2022 <br>\n",
        "Open a python notebook: VisualizationCode.ipynb <br>\n",
        "Open it in Google Colab by clicking: <br>\n",
        "![image.png](data:image/png;base64,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)\n",
        "<br>\n",
        "Run it!!!! <br>\n",
        "There are examples how to use graphics <br>\n",
        "Try to modify and play with the code. It shows how to use graphics.  "
      ],
      "metadata": {
        "id": "VXXyWgoyRcw_"
      }
    },
    {
      "cell_type": "markdown",
      "source": [
        "## **<font color=\"green\">Open THIS lecture notebook:**\n"
      ],
      "metadata": {
        "id": "KCcqeqvBftUH"
      }
    },
    {
      "cell_type": "markdown",
      "source": [
        ""
      ],
      "metadata": {
        "id": "g2SSd_pMffAs"
      }
    },
    {
      "cell_type": "markdown",
      "metadata": {
        "id": "f4gYLnce0nQ-"
      },
      "source": [
        "The goal of this course is to teach some basics of the omnipresent neural networks with [Python](https://www.python.org/) {cite}`barry2016head,matthes2019python,guttag2016`. Both the explanations of key concepts of neural networks and the illustrative programs are kept at a very elementary undergraduate, almost \"high-school\" level. The codes, made very simple, are described in detail. Moreover, they are written without any use of higher-level libraries for neural networks, which helps in better understanding of the explained algorithms and shows how to program them from scratch. "
      ]
    },
    {
      "cell_type": "markdown",
      "metadata": {
        "id": "21wEJxoH0nQ_"
      },
      "source": [
        "```{admonition} Who is the book for?\n",
        ":class: important\n",
        "\n",
        "**The reader may be a complete novice, only slightly acquainted with Python (or actually any other programming language) and Jupyter.**\n",
        "```"
      ]
    },
    {
      "cell_type": "markdown",
      "metadata": {
        "id": "o6O3zT5t0nRA"
      },
      "source": [
        "The material covers such classic topics as the perceptron and its simplest applications, supervised learning with back-propagation for data classification, unsupervised learning and clusterization, the Kohonen self-organizing networks, and the Hopfield networks with feedback. This aims to prepare the necessary ground for the recent and timely advancements (not covered here) in neural networks, such as deep learning, convolutional networks, recurrent networks, generative adversarial networks, reinforcement learning, etc.\n",
        "\n",
        "On the way of the course, some basic Python programing will be gently sneaked in for the newcomers. Guiding explanations and comments in the codes are provided."
      ]
    },
    {
      "cell_type": "markdown",
      "metadata": {
        "id": "gHLTF_ir0nRB"
      },
      "source": [
        "```{admonition} Exercises\n",
        ":class: warning\n",
        "At the end of each chapter some exercises are suggested, with the goal to familiarize the reader with the covered topics and the little codes. Most of exercises involve simple modifications/extensions of appropriate pieces of the lecture material.\n",
        "```"
      ]
    },
    {
      "cell_type": "markdown",
      "metadata": {
        "id": "0LvwdBKQ0nRB"
      },
      "source": [
        "```{admonition} Literature\n",
        ":class: note\n",
        "\n",
        "There are countless textbooks and lecture notes devoted the matters discussed in this course, hence the author will not attempt to present an even incomplete list of literature. We only cite items which a more interested reader might look at. \n",
        "```\n",
        "\n",
        "With simplicity as guidance, our choice of topics took inspiration from detailed lectures by [Daniel Kersten](http://vision.psych.umn.edu/users/kersten/kersten-lab/courses/Psy5038WF2014/IntroNeuralSyllabus.html), illustrated in Mathematica, from an on-line book by [Raul Rojas](https://page.mi.fu-berlin.de/rojas/neural/) (also available in a printed version {cite}`feldman2013neural`), and the from **physicists'** (as myself!) point of view from {cite}`muller2012neural`. "
      ]
    },
    {
      "cell_type": "markdown",
      "metadata": {
        "id": "x55ei1Fg0nRC"
      },
      "source": [
        "## Biological inspiration"
      ]
    },
    {
      "cell_type": "markdown",
      "metadata": {
        "id": "z0UYH2440nRD"
      },
      "source": [
        "Inspiration for computational mathematical models discussed in this course originates from the biological structure of our neural system {cite}`kandel2012principles`. The central nervous system (the brain) contains a huge number ($\\sim 10^{11}$) of [neurons](https://human-memory.net/brain-neurons-synapses/), which may be viewed as tiny elementary processor units. They receive a signal via **dendrites**, and in case it is strong enough, the nucleus decides (a computation done here!) to \"fire\" an output signal along the **axon**, where it is subsequently passed via axon terminals to dendrites of other neurons. The axon-dendrite connections (the **synaptic** connections) may be weak or strong, modifying the passed stimulus. Moreover, the strength of the synaptic connections may change in time ([Hebbian rule](https://en.wikipedia.org/wiki/Hebbian_theory) tells us that the connections get stronger if they are being used repeatedly). In this sense, the neuron is \"programmable\". \n"
      ]
    },
    {
      "cell_type": "markdown",
      "metadata": {
        "id": "F6W0MH5j0nRE"
      },
      "source": [
        ":::{figure-md} neuron-fig\n",
        "<img src=\"https://github.com/bronwojtek/neuralnets-in-raw-python/blob/master/nn_book/docs/images/neuron-structure.jpg?raw=1\" width=\"450px\">\n",
        "\n",
        "Biological neuron (from [https://training.seer.cancer.gov/anatomy/nervous/tissue.html](https://training.seer.cancer.gov/anatomy/nervous/tissue.html)).\n",
        ":::"
      ]
    },
    {
      "cell_type": "markdown",
      "metadata": {
        "id": "yZlJcy5A0nRE"
      },
      "source": [
        "We may ask ourselves if the number of neurons in the brain should really be termed so \"huge\" as usually claimed. Let us compare it to the computing devices with memory chips. The number of $10^{11}$ neurons roughly corresponds to the number of transistors in a 10GB memory chip, which does not impress us so much, as these days we may buy such a device for 2\\$ or so.\n",
        "\n",
        "Moreover, the speed of traveling of the nerve impulses, which is due to electrochemical processes, is not impressive, either. Fastest signals, such as those related to muscle positioning, travel at speeds up to 120m/s (the myelin sheaths are essential to achieve them). The touch signals reach about 80m/s, whereas pain is transmitted only at comparatively very slow speeds of 0.6m/s. This is the reason why when you drop a hammer on your toe, you sense it immediately, but the pain reaches your brain with a delay of ~1s, as it has to pass the distance of ~1.5m. On the other hand, in electronic devices the signal travels along the wires at speeds of the order of the speed of light, $\\sim 300000{\\rm km/s}=3\\times 10^{8}{\\rm m/s}$!\n",
        "\n",
        "For humans, the average [reaction time](https://backyardbrains.com/experiments/reactiontime) is 0.25s to a visual stimulus, 0.17s to an audio stimulus, and 0.15s to a touch. Thus setting the threshold time for a false start in sprints at 0.1s is safely below a possible reaction of a runner. These are extremely slow reactions compared to electronic responses. \n",
        "\n",
        "\n",
        "Based on the energy consumption of the brain, one can estimate that on the average a cortical neuron [fires](https://aiimpacts.org/rate-of-neuron-firing/) about once per 6 seconds. Likewise, it is unlikely that an average cortical neuron fires more than once per second. Multiplying the firing rate by the number of all the cortical neurons, $\\sim 1.6 \\times 10^{10}$, yields about $3 \\times 10^{9}$ firings/s in the cortex, or 3GHz. This is the rate of a typical processor chip! Hence if the firing is identified with an elementary calculation, the thus defined power of the brain is comparable to that of a standard computer processor. \n",
        "\n",
        "The above facts might indicate that, from a point of view of naive comparisons with silicon-based chips, the human brain is nothing so special. So what is it that gives us our unique abilities: amazing visual and audio pattern recognition, thinking, consciousness, intuition, imagination? The answer is linked to an amazing architecture of the brain, where each neuron (processor unit) is connected via synapses to, on the average, 10000 (!) other neurons. This feature makes it radically different and immensely more complicated than the architecture consisting of a control unit, processor, and memory in our computers (the [von Neumann machine](https://en.wikipedia.org/wiki/Von_Neumann_architecture) architecture). There, the number of connections is of the order of the number of bits of the memory. In contrast, there are about $10^{15}$ synaptic connections in the human brain. As mentioned, the connections may be \"programmed\" to get stronger or weaker. If, for the sake of a simple estimate, we approximated the connection strength by just two states of a synapse, 0 or 1, the total number of combinatorial configurations of such a system would be $2^{10^{15}}$ - a humongous number. Most of such configuration, of course, never realize in practice, nevertheless the number of possible configuration states of the brain, or the \"programs\" it can run, is truly immense."
      ]
    },
    {
      "cell_type": "markdown",
      "metadata": {
        "id": "oFwvmwNc0nRF"
      },
      "source": [
        "In recent years, with developing powerful imaging techniques, it became possible to map the connections in the brain with unprecedented resolution, where single nerve bundles are visible. The efforts are part of the [Human Connectome Project](http://www.humanconnectomeproject.org), with the ultimate goal to map one-to-one the human brain architecture. For the much simpler fruit fly, the [drosophila connectome project](https://en.wikipedia.org/wiki/Drosophila_connectome) is very well advanced. "
      ]
    },
    {
      "cell_type": "markdown",
      "metadata": {
        "id": "dNdV8z4t0nRF"
      },
      "source": [
        ":::{figure-md} Connectome-fig\n",
        "<img src=\"https://github.com/bronwojtek/neuralnets-in-raw-python/blob/master/nn_book/docs/images/brain.jpg?raw=1\" width=\"280px\">\n",
        "\n",
        "White matter fiber architecture of the brain (from the Human Connectome Project [humanconnectomeproject.org](http://www.humanconnectomeproject.org/gallery/))\n",
        ":::"
      ]
    },
    {
      "cell_type": "markdown",
      "metadata": {
        "id": "HqFOe8Uv0nRG"
      },
      "source": [
        "```{important}\n",
        "The \"immense connectivity\" feature, with zillions of neurons serving as parallel elementary processors, makes the brain a completely different computational device from the [Von Neumann machine](https://en.wikipedia.org/wiki/Von_Neumann_architecture) (i.e. our everyday computers).\n",
        "```"
      ]
    },
    {
      "cell_type": "markdown",
      "metadata": {
        "id": "ZwqVc04P0nRG"
      },
      "source": [
        "## Feed-forward networks "
      ]
    },
    {
      "cell_type": "markdown",
      "metadata": {
        "id": "aMKvMqTo0nRG"
      },
      "source": [
        "The neurophysiological research of the brain provides important guidelines for mathematical models used in artificial neural networks (**ANN**s). Conversely, the advances in algorithmics of ANNs frequently bring us closer to understanding of how our \"brain computer\" may actually work! \n",
        "\n",
        "\n",
        "The simplest ANNs are the so called **feed forward** networks, exemplified in {numref}`ffnn-fig`. They consist of an **input** layer (black dots), which just represents digitized data, and layers of neurons (colored blobs). The number of neurons in each layer may be different. The complexity of the network and the tasks it may accomplish increase, naturally, with the number of layers and the number of neurons. \n",
        "\n",
        "In the remaining part of this section we give, in a rather dense format, a bunch of important definitions: \n",
        "\n",
        "Networks with one layer of neurons are called **single-layer** networks. The last layer (light blue blobs) is called the **output layer**. In multi-layer (more than one neuron layer) networks the neuron layers preceding the output layer (purple blobs) are called **intermediate layers**. If the number of layers is large (e.g. as many as 64, 128, ...), we deal with the recent \"ground-breaking\" **deep networks**.\n",
        "\n",
        "Neurons in various layers do not have to function the same way, in particular the output neurons may act differently from the others.\n",
        "\n",
        "The signal from the input travels along the links (edges, synaptic connections), indicated with arrows, to the neurons in subsequent layers. In feed-forward networks, as the one in {numref}`ffnn-fig`, it can only move forward (from left to right in the figure): from the input to the first neuron layer, from the first to the second, and so on until the output is reached. No going backward to preceding layers, or parallel propagation among the neurons of the same layer, are allowed. This would be a **recurrent** feature that we touch upon in section {ref}`lat-lab`. \n",
        "\n",
        "As we describe in detail in the following chapters, the traveling signal is appropriately **processed** by the neurons, hence the device carries out a computation: input is being transformed into output. \n",
        "\n",
        "In the sample network of {numref}`ffnn-fig` each neuron from a preceding layer is connected to each neuron in the following layer. Such ANNs are called **fully connected**. "
      ]
    },
    {
      "cell_type": "markdown",
      "metadata": {
        "id": "81yrqc8x0nRH"
      },
      "source": [
        ":::{figure-md} ffnn-fig\n",
        "<img src=\"https://github.com/bronwojtek/neuralnets-in-raw-python/blob/master/nn_book/docs/images/feed_f.png?raw=1\" width=\"300px\">\n",
        "\n",
        "A sample feed-foward fully connected artificial neural network. The colored blobs represent the neurons, and the edges indicate the synaptic connections. The signal propagates starting from the input (black dots), via the neurons in subsequent intermediate (hidden) layers (purple blobs), to the output layer (light blue blobs). The strength of the connections is controled by weights (hyperparameters) assigned to the edges.\n",
        ":::"
      ]
    },
    {
      "cell_type": "markdown",
      "metadata": {
        "id": "2F1jUJfW0nRH"
      },
      "source": [
        "As we will discuss in greater detail shortly, each edge (synaptic connection) in the network has a certain \"strength\" described with a number called **weight** (the weights are also termed **hyperparameters**). Even very small fully connected networks, such as the one of {numref}`ffnn-fig`, have very many connections (here 30), hence contain a lot of hyperparameters. Thus, while sometimes looking innocuously, ANNs are in fact very complex multi-parametric systems. Moreover, a crucial feature here is an inherent nonlinearity of the neuron responses, as we discuss in chapter {ref}`MCP-lab`."
      ]
    },
    {
      "cell_type": "markdown",
      "metadata": {
        "id": "FuXSaQ0e0nRH"
      },
      "source": [
        "## Why Python"
      ]
    },
    {
      "cell_type": "markdown",
      "metadata": {
        "id": "kc-WaLnT0nRH"
      },
      "source": [
        "The choice of  [Python](https://en.wikipedia.org/wiki/Python_(programming_language)) for the little codes of this course needs almost no explanation. Let us only quote [Tim Peters](https://en.wikipedia.org/wiki/Tim_Peters_(software_engineer)): \n",
        "\n",
        "- Beautiful is better than ugly.\n",
        "- Explicit is better than implicit.\n",
        "- Simple is better than complex.\n",
        "- Complex is better than complicated.\n",
        "- Readability counts.\n",
        "\n",
        "\n",
        "According to [SlashData](https://developer-tech.com/news/2021/apr/27/slashdata-javascript-python-boast-largest-developer-communities/), there are now over 10 million developers in the world using Python, just second after JavaScript (~14 million). In particular, it proves very practical in applications to ANNs."
      ]
    },
    {
      "cell_type": "markdown",
      "metadata": {
        "id": "Lsj6_Lb60nRI"
      },
      "source": [
        "### Imported packages"
      ]
    },
    {
      "cell_type": "markdown",
      "metadata": {
        "id": "UDlSPq5V0nRI"
      },
      "source": [
        "Throughout this course we use some standard Python library packages for the numerics, plotting, etc. As stressed, we do not use any libraries specifically dedicated to neural networks. Each lecture's notebook starts with the inclusion of some of these libraries:"
      ]
    },
    {
      "cell_type": "code",
      "execution_count": null,
      "metadata": {
        "id": "GOWvYdR30nRI"
      },
      "outputs": [],
      "source": [
        "import numpy as np              # numerical\n",
        "import statistics as st         # statistics\n",
        "import matplotlib.pyplot as plt # plotting\n",
        "import matplotlib as mpl        # plotting\n",
        "import matplotlib.cm as cm      # contour plots \n",
        "\n",
        "from mpl_toolkits.mplot3d.axes3d import Axes3D   # 3D plots\n",
        "from IPython.display import display, Image, HTML # display imported graphics"
      ]
    },
    {
      "cell_type": "markdown",
      "metadata": {
        "id": "ezjvmqUN0nRJ"
      },
      "source": [
        "```{admonition} **neural** package\n",
        "Functions created during this course which are of repeated use, are placed in the private library package **neural**, described in appendix {ref}`app-lab`. \n",
        "```"
      ]
    },
    {
      "cell_type": "markdown",
      "metadata": {
        "id": "HnBfnk3M0nRJ"
      },
      "source": [
        "Assuming the package is in the relative subdirectory **lib_nn**, it is imported in the following way:"
      ]
    },
    {
      "cell_type": "code",
      "execution_count": null,
      "metadata": {
        "id": "foWZgMGj0nRJ",
        "outputId": "3af3b7fc-4939-471d-88f1-9025ad9fe14b"
      },
      "outputs": [
        {
          "name": "stdout",
          "output_type": "stream",
          "text": [
            "Invoking __init__.py for neural\n"
          ]
        }
      ],
      "source": [
        "import sys                  # system \n",
        "sys.path.append('./lib_nn') # path to the lecture's package\n",
        "\n",
        "from neural import *        # import the lecture's package"
      ]
    },
    {
      "cell_type": "markdown",
      "metadata": {
        "id": "yvNCe9rI0nRK"
      },
      "source": [
        "See appendix {ref}`app-lab` for further details."
      ]
    },
    {
      "cell_type": "markdown",
      "metadata": {
        "id": "4LEul4TB0nRK"
      },
      "source": [
        "```{note} \n",
        "For brevity of presentation, some redundant (e.g. imports of libraries) or inessential pieces of the code are present only in the downloadable source Jupyter notebooks, and are not included/repeated in the book. This makes the text more concise and readable.\n",
        "```"
      ]
    }
  ],
  "metadata": {
    "kernelspec": {
      "display_name": "Python 3",
      "language": "python",
      "name": "python3"
    },
    "language_info": {
      "codemirror_mode": {
        "name": "ipython",
        "version": 3
      },
      "file_extension": ".py",
      "mimetype": "text/x-python",
      "name": "python",
      "nbconvert_exporter": "python",
      "pygments_lexer": "ipython3",
      "version": "3.8.11"
    },
    "colab": {
      "name": "lecture1_intro.ipynb",
      "provenance": [],
      "collapsed_sections": [],
      "include_colab_link": true
    }
  },
  "nbformat": 4,
  "nbformat_minor": 0
}